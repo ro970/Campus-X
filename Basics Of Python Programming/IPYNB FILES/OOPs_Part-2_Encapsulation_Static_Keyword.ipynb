{
 "cells": [
  {
   "cell_type": "markdown",
   "id": "76847963",
   "metadata": {},
   "source": [
    "### Write OOP classes to handle the following scenarios:\n",
    "\n",
    "- A user can create and view 2D coordinates\n",
    "- A user can find out the distance between 2 coordinates\n",
    "- A user can find find the distance of a coordinate from origin\n",
    "- A user can check if a point lies on a given line\n",
    "- A user can find the distance between a given 2D point and a given line\n",
    "\n"
   ]
  },
  {
   "cell_type": "code",
   "execution_count": 55,
   "id": "bc4b6a70",
   "metadata": {},
   "outputs": [],
   "source": [
    "class Point:\n",
    "    def __init__(self,x,y):\n",
    "        self.x_cod = x\n",
    "        self.y_cod = y\n",
    "        \n",
    "    def __str__(self):\n",
    "        return '({},{})'.format(self.x_cod,self.y_cod)\n",
    "    \n",
    "    def Euclidean_Distance(self,other):\n",
    "        return ((self.x_cod-other.x_cod)**2 + (self.y_cod-other.y_cod)**2)**0.5\n",
    "    \n",
    "    def distance_from_origin(self):\n",
    "        return (self.x_cod**2 + self.y_cod**2)**0.5\n",
    "    \n",
    "    \n",
    "class Line:\n",
    "    def __init__(self,A,B,C):\n",
    "        self.A = A\n",
    "        self.B = B\n",
    "        self.C = C\n",
    "        \n",
    "    def __str__(self):\n",
    "        return '{}x + {}y + {} = 0'.format(self.A,self.B,self.C)\n",
    "    \n",
    "    def point_on_line(line,point):\n",
    "        if (line.A*point.x_cod + line.B*point.y_cod + line.C == 0):\n",
    "            return \"Lies On the Line\"\n",
    "        else:\n",
    "            return \"Does Not Lie On the Line\"\n",
    "        \n",
    "    def shorrtest_distance(line,point):\n",
    "        return abs(line.A*point.x_cod + line.B*point.y_cod + line.C) / (line.A**2 + line.B**2)**0.5"
   ]
  },
  {
   "cell_type": "code",
   "execution_count": 56,
   "id": "14e0ebde",
   "metadata": {},
   "outputs": [
    {
     "name": "stdout",
     "output_type": "stream",
     "text": [
      "(0,0)\n",
      "(1,1)\n"
     ]
    }
   ],
   "source": [
    "p1 = Point(0,0)\n",
    "p2 = Point(1,1)\n",
    "# <x,y>\n",
    "print(p1)\n",
    "print(p2)"
   ]
  },
  {
   "cell_type": "code",
   "execution_count": 57,
   "id": "2e145a91",
   "metadata": {},
   "outputs": [
    {
     "data": {
      "text/plain": [
       "1.4142135623730951"
      ]
     },
     "execution_count": 57,
     "metadata": {},
     "output_type": "execute_result"
    }
   ],
   "source": [
    "p1.Euclidean_Distance(p2)"
   ]
  },
  {
   "cell_type": "code",
   "execution_count": 58,
   "id": "a55a6efb",
   "metadata": {},
   "outputs": [
    {
     "data": {
      "text/plain": [
       "0.0"
      ]
     },
     "execution_count": 58,
     "metadata": {},
     "output_type": "execute_result"
    }
   ],
   "source": [
    "p1.distance_from_origin()"
   ]
  },
  {
   "cell_type": "code",
   "execution_count": 59,
   "id": "51651360",
   "metadata": {},
   "outputs": [
    {
     "name": "stdout",
     "output_type": "stream",
     "text": [
      "1x + 1y + -2 = 0\n",
      "(1,1)\n"
     ]
    }
   ],
   "source": [
    "l1 = Line(1,1,-2)\n",
    "p1 = Point(1,1)\n",
    "print(l1)\n",
    "print(p1)"
   ]
  },
  {
   "cell_type": "code",
   "execution_count": 60,
   "id": "68909231",
   "metadata": {},
   "outputs": [
    {
     "data": {
      "text/plain": [
       "'Lies On the Line'"
      ]
     },
     "execution_count": 60,
     "metadata": {},
     "output_type": "execute_result"
    }
   ],
   "source": [
    "l1.point_on_line(p1)"
   ]
  },
  {
   "cell_type": "code",
   "execution_count": 61,
   "id": "2677701a",
   "metadata": {},
   "outputs": [
    {
     "data": {
      "text/plain": [
       "0.0"
      ]
     },
     "execution_count": 61,
     "metadata": {},
     "output_type": "execute_result"
    }
   ],
   "source": [
    "l1.shorrtest_distance(p1)"
   ]
  },
  {
   "cell_type": "code",
   "execution_count": 62,
   "id": "0fa1ab56",
   "metadata": {},
   "outputs": [],
   "source": [
    "class Person:\n",
    "    \n",
    "    def __init__(self,name_input,country_input):\n",
    "        self.name = name_input\n",
    "        self.country = country_input\n",
    "\n",
    "    def greet(self):\n",
    "        if self.country == 'india':\n",
    "            print('Namaste',self.name)\n",
    "        else:\n",
    "            print('Hello',self.name)\n"
   ]
  },
  {
   "cell_type": "code",
   "execution_count": 63,
   "id": "98423e7b",
   "metadata": {},
   "outputs": [],
   "source": [
    "# How to access attributes \n",
    "p = Person('nitish','India')"
   ]
  },
  {
   "cell_type": "code",
   "execution_count": 65,
   "id": "697939c2",
   "metadata": {},
   "outputs": [
    {
     "data": {
      "text/plain": [
       "'India'"
      ]
     },
     "execution_count": 65,
     "metadata": {},
     "output_type": "execute_result"
    }
   ],
   "source": [
    "p.country"
   ]
  },
  {
   "cell_type": "code",
   "execution_count": 66,
   "id": "f0110244",
   "metadata": {},
   "outputs": [
    {
     "data": {
      "text/plain": [
       "'nitish'"
      ]
     },
     "execution_count": 66,
     "metadata": {},
     "output_type": "execute_result"
    }
   ],
   "source": [
    "p.name"
   ]
  },
  {
   "cell_type": "code",
   "execution_count": 68,
   "id": "4e6e93f8",
   "metadata": {},
   "outputs": [
    {
     "name": "stdout",
     "output_type": "stream",
     "text": [
      "Hello nitish\n"
     ]
    }
   ],
   "source": [
    "# How to access Methods\n",
    "p.greet()"
   ]
  },
  {
   "cell_type": "code",
   "execution_count": 69,
   "id": "f24f4b57",
   "metadata": {},
   "outputs": [
    {
     "ename": "AttributeError",
     "evalue": "'Person' object has no attribute 'gender'",
     "output_type": "error",
     "traceback": [
      "\u001b[1;31m---------------------------------------------------------------------------\u001b[0m",
      "\u001b[1;31mAttributeError\u001b[0m                            Traceback (most recent call last)",
      "\u001b[1;32m~\\AppData\\Local\\Temp\\ipykernel_10152\\4288628511.py\u001b[0m in \u001b[0;36m<module>\u001b[1;34m\u001b[0m\n\u001b[0;32m      1\u001b[0m \u001b[1;31m# what if i try to access non-existent attributes\u001b[0m\u001b[1;33m\u001b[0m\u001b[1;33m\u001b[0m\u001b[0m\n\u001b[1;32m----> 2\u001b[1;33m \u001b[0mp\u001b[0m\u001b[1;33m.\u001b[0m\u001b[0mgender\u001b[0m\u001b[1;33m\u001b[0m\u001b[1;33m\u001b[0m\u001b[0m\n\u001b[0m",
      "\u001b[1;31mAttributeError\u001b[0m: 'Person' object has no attribute 'gender'"
     ]
    }
   ],
   "source": [
    "# what if i try to access non-existent attributes\n",
    "p.gender"
   ]
  },
  {
   "cell_type": "markdown",
   "id": "8bc44d09",
   "metadata": {},
   "source": [
    "## Attribute Creation from Outside From the Class"
   ]
  },
  {
   "cell_type": "code",
   "execution_count": 70,
   "id": "91d79c76",
   "metadata": {},
   "outputs": [],
   "source": [
    "p.gender = 'Male'"
   ]
  },
  {
   "cell_type": "code",
   "execution_count": 71,
   "id": "ce1ff739",
   "metadata": {},
   "outputs": [
    {
     "data": {
      "text/plain": [
       "'Male'"
      ]
     },
     "execution_count": 71,
     "metadata": {},
     "output_type": "execute_result"
    }
   ],
   "source": [
    "p.gender"
   ]
  },
  {
   "cell_type": "markdown",
   "id": "eb6be590",
   "metadata": {},
   "source": [
    "### Reference Variables\n",
    "\n",
    "- Reference variables hold the objects\n",
    "- We can create objects without reference variable as well\n",
    "- An object can have multiple reference variables\n",
    "- Assigning a new reference variable to an existing object does not create a new object"
   ]
  },
  {
   "cell_type": "code",
   "execution_count": 72,
   "id": "93cd2ebf",
   "metadata": {},
   "outputs": [],
   "source": [
    "# object without a reference\n",
    "class Person:\n",
    "    \n",
    "    def __init__(self):\n",
    "        self.name = 'nitish'\n",
    "        self.gender = 'male'"
   ]
  },
  {
   "cell_type": "code",
   "execution_count": 75,
   "id": "130e8477",
   "metadata": {},
   "outputs": [],
   "source": [
    "p = Person()\n",
    "q = p"
   ]
  },
  {
   "cell_type": "code",
   "execution_count": 76,
   "id": "06339fa8",
   "metadata": {},
   "outputs": [
    {
     "name": "stdout",
     "output_type": "stream",
     "text": [
      "2395527100976\n",
      "2395527100976\n"
     ]
    }
   ],
   "source": [
    "# Multiple Ref\n",
    "print(id(p))\n",
    "print(id(q))"
   ]
  },
  {
   "cell_type": "code",
   "execution_count": 79,
   "id": "f6d942e4",
   "metadata": {},
   "outputs": [
    {
     "name": "stdout",
     "output_type": "stream",
     "text": [
      "nitish\n",
      "nitish\n",
      "Ankit\n",
      "Ankit\n"
     ]
    }
   ],
   "source": [
    "# change the attribute value with the help of 2nd object.\n",
    "print(p.name)\n",
    "print(q.name)\n",
    "\n",
    "q.name = 'Ankit'\n",
    "print(q.name)\n",
    "print(p.name)"
   ]
  },
  {
   "cell_type": "markdown",
   "id": "9f8b3526",
   "metadata": {},
   "source": [
    "### Pass by reference"
   ]
  },
  {
   "cell_type": "code",
   "execution_count": 81,
   "id": "609a9ec6",
   "metadata": {},
   "outputs": [
    {
     "name": "stdout",
     "output_type": "stream",
     "text": [
      "Hi my name is nitish and I am a male\n",
      "ankit\n",
      "male\n"
     ]
    }
   ],
   "source": [
    "class Person:\n",
    "    def __init__(self,name,gender):\n",
    "        self.name = name\n",
    "        self.gender = gender\n",
    "        \n",
    "# Outside the class --> Function\n",
    "\n",
    "def greet(person):\n",
    "    print('Hi my name is',person.name,'and I am a',person.gender)\n",
    "    p1 = Person('ankit','male')\n",
    "    return p1\n",
    "\n",
    "p = Person('nitish','male')\n",
    "x = greet(p)\n",
    "print(x.name)\n",
    "print(x.gender)"
   ]
  },
  {
   "cell_type": "code",
   "execution_count": 83,
   "id": "4312ddf1",
   "metadata": {},
   "outputs": [
    {
     "name": "stdout",
     "output_type": "stream",
     "text": [
      "2395528930688\n",
      "2395528930688\n",
      "ankit\n",
      "ankit\n"
     ]
    }
   ],
   "source": [
    "class Person:\n",
    "    def __init__(self,name,gender):\n",
    "        self.name = name\n",
    "        self.gender = gender\n",
    "\n",
    "# outside the class -> function\n",
    "def greet(person):\n",
    "    print(id(person))\n",
    "    person.name = 'ankit'\n",
    "    print(person.name)\n",
    "\n",
    "p = Person('nitish','male')\n",
    "print(id(p))\n",
    "greet(p)\n",
    "print(p.name)"
   ]
  },
  {
   "cell_type": "markdown",
   "id": "9586d979",
   "metadata": {},
   "source": [
    "## Object ki mutability"
   ]
  },
  {
   "cell_type": "code",
   "execution_count": 84,
   "id": "c8bf7ee9",
   "metadata": {},
   "outputs": [
    {
     "name": "stdout",
     "output_type": "stream",
     "text": [
      "2395528905488\n",
      "ankit\n",
      "2395527098624\n"
     ]
    }
   ],
   "source": [
    "class Person:\n",
    "    \n",
    "    def __init__(self,name,gender):\n",
    "        self.name = name\n",
    "        self.gender = gender\n",
    "        \n",
    "# Outside the class --> function\n",
    "def greet(person):\n",
    "    person.name = 'ankit'\n",
    "    print(person.name)\n",
    "    \n",
    "p = Person('nitish','male')\n",
    "print(id(p))\n",
    "greet(p)\n",
    "print(id(p1))"
   ]
  },
  {
   "cell_type": "markdown",
   "id": "702dfcd8",
   "metadata": {},
   "source": [
    "##  Encapsulation"
   ]
  },
  {
   "cell_type": "markdown",
   "id": "b1cd87e8",
   "metadata": {},
   "source": [
    "\n",
    "\n",
    "- Encapsulation is one of the fundamental concepts in object-oriented programming (OOP), including abstraction, inheritance, and polymorphism. This lesson will cover what encapsulation is and how to implement it in Python.\n",
    "\n",
    "\n",
    "- Q-1) What is Encapsulation in Python?\n",
    "-   Ans: Encapsulation in Python describes the concept of bundling data and methods within a single unit. So, for example, when you create a class, it means you are implementing encapsulation. A class is an example of encapsulation as it binds all the data members (instance variables) and methods into a single unit.\n",
    "                                                                                                                                \n",
    "                                                                                                                                \n",
    "\n",
    "- Using encapsulation, we can hide an object’s internal representation from the outside. This is called information hiding.\n",
    "\n",
    "\n",
    "- Also, encapsulation allows us to restrict accessing variables and methods directly and prevent accidental data modification by - creating private data members and methods within a class.\n",
    "\n",
    "\n",
    "- Encapsulation is a way to can restrict access to methods and variables from outside of class. Whenever we are working with the - class and dealing with sensitive data, providing access to all variables used within the class is not a good choice.\n",
    "\n",
    "\n",
    "- For example, Suppose you have an attribute that is not visible from the outside of an object and bundle it with methods that  - provide read or write access.\n",
    "\n",
    "\n",
    "\n",
    "- In that case, you can hide specific information and control access to the object’s internal     -state. Encapsulation offers a way for us to access the required variable without providing the program full-fledged access to - all variables of a class. This mechanism is used to protect the data of an object from other objects.\n",
    "\n"
   ]
  },
  {
   "cell_type": "markdown",
   "id": "26f5136e",
   "metadata": {},
   "source": [
    "## Access Modifiers in Python"
   ]
  },
  {
   "cell_type": "markdown",
   "id": "9c28a28f",
   "metadata": {},
   "source": [
    "Encapsulation can be achieved by declaring the data members and methods of a class either as private or protected. But In Python, we don’t have direct access modifiers like public, private, and protected. We can achieve this by using single underscore and double underscores.\n",
    "\n",
    "Access modifiers limit access to the variables and methods of a class. Python provides three types of access modifiers private, public, and protected.\n",
    "\n"
   ]
  },
  {
   "cell_type": "markdown",
   "id": "89ad5c5f",
   "metadata": {},
   "source": [
    "* Public Member: Accessible anywhere from otside oclass.\n",
    "* Private Member: Accessible within the class\n",
    "* Protected Member: Accessible within the class and its sub-classes"
   ]
  },
  {
   "cell_type": "markdown",
   "id": "da11dbc6",
   "metadata": {},
   "source": [
    "Public Member: Accessible anywhere from outside oclass.\n",
    "Private Member: Accessible within the class\n",
    "Protected Member: Accessible within the class and its sub-classes"
   ]
  },
  {
   "cell_type": "code",
   "execution_count": 2,
   "id": "85c9b237",
   "metadata": {},
   "outputs": [],
   "source": [
    "# instance variable --> Python Tutor\n",
    "class Person:\n",
    "    def __init__(self,name_input,country_input):\n",
    "        self.name = name_input\n",
    "        self.country = country_input\n",
    "\n",
    "p1 = Person('nitish','india')\n",
    "p2 = Person('steve','australia')"
   ]
  },
  {
   "cell_type": "code",
   "execution_count": 3,
   "id": "eb0505de",
   "metadata": {},
   "outputs": [
    {
     "data": {
      "text/plain": [
       "'nitish'"
      ]
     },
     "execution_count": 3,
     "metadata": {},
     "output_type": "execute_result"
    }
   ],
   "source": [
    "p1.name"
   ]
  },
  {
   "cell_type": "code",
   "execution_count": 4,
   "id": "3b35098f",
   "metadata": {},
   "outputs": [
    {
     "data": {
      "text/plain": [
       "'steve'"
      ]
     },
     "execution_count": 4,
     "metadata": {},
     "output_type": "execute_result"
    }
   ],
   "source": [
    "p2.name"
   ]
  },
  {
   "cell_type": "code",
   "execution_count": 37,
   "id": "4c480623",
   "metadata": {},
   "outputs": [],
   "source": [
    "class Atm:\n",
    "    \n",
    "    # constructor(special function)->superpower -> \n",
    "    def __init__(self):\n",
    "        print(id(self))\n",
    "        self.pin = ''\n",
    "        self.__balance = 0\n",
    "        #self.menu()\n",
    "\n",
    "    def get_balance(self):\n",
    "        return self.__balance\n",
    "\n",
    "    def set_balance(self,new_value):\n",
    "        if type(new_value) == int:\n",
    "            self.__balance = new_value\n",
    "        else:\n",
    "            print('beta bahot maarenge')\n",
    "            \n",
    "    def __menu(self):\n",
    "        user_input = input(\"\"\"\n",
    "        Hi how can I help you?\n",
    "        1. Press 1 to create pin\n",
    "        2. Press 2 to change pin\n",
    "        3. Press 3 to check balance\n",
    "        4. Press 4 to withdraw\n",
    "        5. Anything else to exit\n",
    "        \"\"\")\n",
    "\n",
    "        if user_input == '1':\n",
    "            self.create_pin()\n",
    "        elif user_input == '2':\n",
    "            self.change_pin()\n",
    "        elif user_input == '3':\n",
    "            self.check_balance()\n",
    "        elif user_input == '4':\n",
    "            self.withdraw()\n",
    "        else:\n",
    "            exit()\n",
    "\n",
    "    def create_pin(self):\n",
    "        user_pin = input('enter your pin')\n",
    "        self.pin = user_pin\n",
    "\n",
    "        user_balance = int(input('enter balance'))\n",
    "        self.__balance = user_balance\n",
    "\n",
    "        print('pin created successfully')\n",
    "\n",
    "    def change_pin(self):\n",
    "        old_pin = input('enter old pin')\n",
    "\n",
    "        if old_pin == self.pin:\n",
    "            # let him change the pin\n",
    "            new_pin = input('enter new pin')\n",
    "            self.pin = new_pin\n",
    "            print('pin change successful')\n",
    "        else:\n",
    "            print('nai karne de sakta re baba')\n",
    "\n",
    "    def check_balance(self):\n",
    "        user_pin = input('enter your pin')\n",
    "        if user_pin == self.pin:\n",
    "            print('your balance is ',self.__balance)\n",
    "        else:\n",
    "            print('chal nikal yahan se')\n",
    "\n",
    "    def withdraw(self):\n",
    "        user_pin = input('enter the pin')\n",
    "        if user_pin == self.pin:\n",
    "            # allow to withdraw\n",
    "            amount = int(input('enter the amount'))\n",
    "            if amount <= self.__balance:\n",
    "                self.__balance = self.__balance - amount\n",
    "                print('withdrawl successful.balance is',self.__balance)\n",
    "            else:\n",
    "                print('abe garib')\n",
    "        else:\n",
    "            print('sale chor')"
   ]
  },
  {
   "cell_type": "code",
   "execution_count": 40,
   "id": "a2d11456",
   "metadata": {},
   "outputs": [
    {
     "name": "stdout",
     "output_type": "stream",
     "text": [
      "2467066910992\n"
     ]
    }
   ],
   "source": [
    "obj = Atm()"
   ]
  },
  {
   "cell_type": "code",
   "execution_count": 41,
   "id": "57767991",
   "metadata": {},
   "outputs": [
    {
     "name": "stdout",
     "output_type": "stream",
     "text": [
      "enter your pin1234\n",
      "enter balance1000\n",
      "pin created successfully\n"
     ]
    }
   ],
   "source": [
    "obj.create_pin()\n",
    "obj.balance = 'hehehe'"
   ]
  },
  {
   "cell_type": "code",
   "execution_count": 42,
   "id": "227d3563",
   "metadata": {},
   "outputs": [
    {
     "name": "stdout",
     "output_type": "stream",
     "text": [
      "enter the pin1234\n",
      "enter the amount500\n",
      "withdrawl successful.balance is 500\n"
     ]
    }
   ],
   "source": [
    "obj.withdraw()"
   ]
  },
  {
   "cell_type": "code",
   "execution_count": 43,
   "id": "82de521f",
   "metadata": {},
   "outputs": [],
   "source": [
    "obj.__balance = 'hehehe'"
   ]
  },
  {
   "cell_type": "code",
   "execution_count": 44,
   "id": "4b079f3c",
   "metadata": {},
   "outputs": [
    {
     "data": {
      "text/plain": [
       "500"
      ]
     },
     "execution_count": 44,
     "metadata": {},
     "output_type": "execute_result"
    }
   ],
   "source": [
    "obj.get_balance()"
   ]
  },
  {
   "cell_type": "code",
   "execution_count": 46,
   "id": "5f676e5c",
   "metadata": {},
   "outputs": [
    {
     "name": "stdout",
     "output_type": "stream",
     "text": [
      "beta bahot maarenge\n"
     ]
    }
   ],
   "source": [
    "obj.set_balance(\"HeyHey\")"
   ]
  },
  {
   "cell_type": "markdown",
   "id": "cf32977c",
   "metadata": {},
   "source": [
    "# Public Member"
   ]
  },
  {
   "cell_type": "markdown",
   "id": "06a69f1a",
   "metadata": {},
   "source": [
    "- Public data members are accessible within and outside of a class. \n",
    "- All member variables of the class are by default public."
   ]
  },
  {
   "cell_type": "markdown",
   "id": "7da80739",
   "metadata": {},
   "source": [
    "# Example"
   ]
  },
  {
   "cell_type": "code",
   "execution_count": 51,
   "id": "82318115",
   "metadata": {},
   "outputs": [
    {
     "name": "stdout",
     "output_type": "stream",
     "text": [
      "Name:  Jessa Salary: 10000\n",
      "Name:  Jessa Salary: 10000\n"
     ]
    }
   ],
   "source": [
    "class Employee:\n",
    "    # constructor\n",
    "    def __init__(self, name, salary):\n",
    "        # public data members\n",
    "        self.name = name\n",
    "        self.salary = salary\n",
    "\n",
    "    # public instance methods\n",
    "    def show(self):\n",
    "        # accessing public data member\n",
    "        print(\"Name: \", self.name, 'Salary:', self.salary)\n",
    "\n",
    "# creating object of a class\n",
    "emp = Employee('Jessa', 10000)\n",
    "\n",
    "# accessing public data members\n",
    "print(\"Name: \", emp.name, 'Salary:', emp.salary)\n",
    "\n",
    "# calling public method of the class\n",
    "emp.show()"
   ]
  },
  {
   "cell_type": "markdown",
   "id": "9d455141",
   "metadata": {},
   "source": [
    "# Private Member"
   ]
  },
  {
   "cell_type": "markdown",
   "id": "d8269132",
   "metadata": {},
   "source": [
    "- We can protect variables in the class by marking them private. \n",
    "- To define a private variable add two underscores as a prefix at the start of a variable name.\n",
    "- Private members are accessible only within the class, and we can’t access them directly from the class objects."
   ]
  },
  {
   "cell_type": "markdown",
   "id": "470bb3f0",
   "metadata": {},
   "source": [
    "## Example"
   ]
  },
  {
   "cell_type": "code",
   "execution_count": 52,
   "id": "54f7bd2b",
   "metadata": {},
   "outputs": [
    {
     "ename": "AttributeError",
     "evalue": "'Employee' object has no attribute '__salary'",
     "output_type": "error",
     "traceback": [
      "\u001b[1;31m---------------------------------------------------------------------------\u001b[0m",
      "\u001b[1;31mAttributeError\u001b[0m                            Traceback (most recent call last)",
      "\u001b[1;32m~\\AppData\\Local\\Temp\\ipykernel_20396\\1538202870.py\u001b[0m in \u001b[0;36m<module>\u001b[1;34m\u001b[0m\n\u001b[0;32m     11\u001b[0m \u001b[1;33m\u001b[0m\u001b[0m\n\u001b[0;32m     12\u001b[0m \u001b[1;31m# accessing private data members\u001b[0m\u001b[1;33m\u001b[0m\u001b[1;33m\u001b[0m\u001b[0m\n\u001b[1;32m---> 13\u001b[1;33m \u001b[0mprint\u001b[0m\u001b[1;33m(\u001b[0m\u001b[1;34m'Salary:'\u001b[0m\u001b[1;33m,\u001b[0m \u001b[0memp\u001b[0m\u001b[1;33m.\u001b[0m\u001b[0m__salary\u001b[0m\u001b[1;33m)\u001b[0m\u001b[1;33m\u001b[0m\u001b[1;33m\u001b[0m\u001b[0m\n\u001b[0m",
      "\u001b[1;31mAttributeError\u001b[0m: 'Employee' object has no attribute '__salary'"
     ]
    }
   ],
   "source": [
    "class Employee:\n",
    "    # constructor\n",
    "    def __init__(self, name, salary):\n",
    "        # public data member\n",
    "        self.name = name\n",
    "        # private member\n",
    "        self.__salary = salary\n",
    "\n",
    "# creating object of a class\n",
    "emp = Employee('Jessa', 10000)\n",
    "\n",
    "# accessing private data members\n",
    "print('Salary:', emp.__salary)"
   ]
  },
  {
   "cell_type": "markdown",
   "id": "51d13a52",
   "metadata": {},
   "source": [
    "In the above example, the salary is a private variable. As you know, we can’t access the private variable from the outside of that class.\n",
    "\n",
    "We can access private members from outside of a class using the following two approaches\n",
    "\n",
    "- Create public method to access private members\n",
    "- Use name mangling\n",
    "Let’s see each one by one"
   ]
  },
  {
   "cell_type": "markdown",
   "id": "f896d07d",
   "metadata": {},
   "source": [
    "## Public method to access private members\n"
   ]
  },
  {
   "cell_type": "code",
   "execution_count": 53,
   "id": "43b13eaf",
   "metadata": {},
   "outputs": [
    {
     "name": "stdout",
     "output_type": "stream",
     "text": [
      "Name:  Jessa Salary: 10000\n"
     ]
    }
   ],
   "source": [
    "class Employee:\n",
    "    # constructor\n",
    "    def __init__(self, name, salary):\n",
    "        # public data member\n",
    "        self.name = name\n",
    "        # private member\n",
    "        self.__salary = salary\n",
    "\n",
    "    # public instance methods\n",
    "    def show(self):\n",
    "        # private members are accessible from a class\n",
    "        print(\"Name: \", self.name, 'Salary:', self.__salary)\n",
    "\n",
    "# creating object of a class\n",
    "emp = Employee('Jessa', 10000)\n",
    "\n",
    "# calling public method of the class\n",
    "emp.show()"
   ]
  },
  {
   "cell_type": "markdown",
   "id": "e6bac809",
   "metadata": {},
   "source": [
    "## Name Mangling to access private members"
   ]
  },
  {
   "cell_type": "markdown",
   "id": "b125ec99",
   "metadata": {},
   "source": [
    "- We can directly access private and protected variables from outside of a class through name mangling. The name mangling is created on an identifier by adding two leading underscores and one trailing underscore, like this _classname__dataMember, where classname is the current class, and data member is the private variable name."
   ]
  },
  {
   "cell_type": "code",
   "execution_count": 54,
   "id": "bb01278f",
   "metadata": {},
   "outputs": [
    {
     "name": "stdout",
     "output_type": "stream",
     "text": [
      "Name: Jessa\n",
      "Salary: 10000\n"
     ]
    }
   ],
   "source": [
    "class Employee:\n",
    "    # constructor\n",
    "    def __init__(self, name, salary):\n",
    "        # public data member\n",
    "        self.name = name\n",
    "        # private member\n",
    "        self.__salary = salary\n",
    "\n",
    "# creating object of a class\n",
    "emp = Employee('Jessa', 10000)\n",
    "\n",
    "print('Name:', emp.name)\n",
    "# direct access to private member using name mangling\n",
    "print('Salary:', emp._Employee__salary)"
   ]
  },
  {
   "cell_type": "markdown",
   "id": "69428b86",
   "metadata": {},
   "source": [
    "## Protected Member"
   ]
  },
  {
   "cell_type": "markdown",
   "id": "c303faaa",
   "metadata": {},
   "source": [
    "- Protected members are accessible within the class and also available to its sub-classes. To define a protected member, prefix the member name with a single underscore _.\n",
    "\n",
    "- Protected data members are used when you implement inheritance and want to allow data members access to only child classes."
   ]
  },
  {
   "cell_type": "code",
   "execution_count": 55,
   "id": "919e4869",
   "metadata": {},
   "outputs": [
    {
     "name": "stdout",
     "output_type": "stream",
     "text": [
      "Employee name : Jessa\n",
      "Working on project : NLP\n",
      "Project: NLP\n"
     ]
    }
   ],
   "source": [
    "# base class\n",
    "class Company:\n",
    "    def __init__(self):\n",
    "        # Protected member\n",
    "        self._project = \"NLP\"\n",
    "\n",
    "# child class\n",
    "class Employee(Company):\n",
    "    def __init__(self, name):\n",
    "        self.name = name\n",
    "        Company.__init__(self)\n",
    "\n",
    "    def show(self):\n",
    "        print(\"Employee name :\", self.name)\n",
    "        # Accessing protected member in child class\n",
    "        print(\"Working on project :\", self._project)\n",
    "\n",
    "c = Employee(\"Jessa\")\n",
    "c.show()\n",
    "\n",
    "# Direct access protected data member\n",
    "print('Project:', c._project)"
   ]
  },
  {
   "cell_type": "markdown",
   "id": "a1e2e667",
   "metadata": {},
   "source": [
    "# Getters and Setters in Python"
   ]
  },
  {
   "cell_type": "markdown",
   "id": "f8cf9de4",
   "metadata": {},
   "source": [
    "To implement proper encapsulation in Python, we need to use setters and getters. The primary purpose of using getters and setters in object-oriented programs is to ensure data encapsulation. Use the getter method to access data members and the setter methods to modify the data members.\n",
    "\n",
    "In Python, private variables are not hidden fields like in other programming languages. The getters and setters methods are often used when:\n",
    "\n",
    "- When we want to avoid direct access to private variables\n",
    "- To add validation logic for setting a value"
   ]
  },
  {
   "cell_type": "markdown",
   "id": "0ef06630",
   "metadata": {},
   "source": [
    "## Example : 1"
   ]
  },
  {
   "cell_type": "code",
   "execution_count": 56,
   "id": "e1a4d4db",
   "metadata": {},
   "outputs": [
    {
     "name": "stdout",
     "output_type": "stream",
     "text": [
      "Name: Jessa 14\n",
      "Name: Jessa 16\n"
     ]
    }
   ],
   "source": [
    "class Student:\n",
    "    def __init__(self, name, age):\n",
    "        # private member\n",
    "        self.name = name\n",
    "        self.__age = age\n",
    "\n",
    "    # getter method\n",
    "    def get_age(self):\n",
    "        return self.__age\n",
    "\n",
    "    # setter method\n",
    "    def set_age(self, age):\n",
    "        self.__age = age\n",
    "\n",
    "stud = Student('Jessa', 14)\n",
    "\n",
    "# retrieving age using getter\n",
    "print('Name:', stud.name, stud.get_age())\n",
    "\n",
    "# changing age using setter\n",
    "stud.set_age(16)\n",
    "\n",
    "# retrieving age using getter\n",
    "print('Name:', stud.name, stud.get_age())"
   ]
  },
  {
   "cell_type": "markdown",
   "id": "0bd982a0",
   "metadata": {},
   "source": [
    "## Example : 2"
   ]
  },
  {
   "cell_type": "code",
   "execution_count": 57,
   "id": "ccc083d0",
   "metadata": {},
   "outputs": [
    {
     "name": "stdout",
     "output_type": "stream",
     "text": [
      "Student Details: Jessa 10\n",
      "Invalid roll no. Please set correct roll number\n",
      "Student Details: Jessa 25\n"
     ]
    }
   ],
   "source": [
    "class Student:\n",
    "    def __init__(self, name, roll_no, age):\n",
    "        # private member\n",
    "        self.name = name\n",
    "        # private members to restrict access\n",
    "        # avoid direct data modification\n",
    "        self.__roll_no = roll_no\n",
    "        self.__age = age\n",
    "\n",
    "    def show(self):\n",
    "        print('Student Details:', self.name, self.__roll_no)\n",
    "\n",
    "    # getter methods\n",
    "    def get_roll_no(self):\n",
    "        return self.__roll_no\n",
    "\n",
    "    # setter method to modify data member\n",
    "    # condition to allow data modification with rules\n",
    "    def set_roll_no(self, number):\n",
    "        if number > 50:\n",
    "            print('Invalid roll no. Please set correct roll number')\n",
    "        else:\n",
    "            self.__roll_no = number\n",
    "\n",
    "jessa = Student('Jessa', 10, 15)\n",
    "\n",
    "# before Modify\n",
    "jessa.show()\n",
    "# changing roll number using setter\n",
    "jessa.set_roll_no(120)\n",
    "\n",
    "\n",
    "jessa.set_roll_no(25)\n",
    "jessa.show()"
   ]
  },
  {
   "cell_type": "markdown",
   "id": "71d83a48",
   "metadata": {},
   "source": [
    "## Collection of objects"
   ]
  },
  {
   "cell_type": "code",
   "execution_count": 60,
   "id": "9bb63207",
   "metadata": {},
   "outputs": [
    {
     "name": "stdout",
     "output_type": "stream",
     "text": [
      "Nitish Male\n",
      "Ankit Male\n",
      "Ankita Female\n"
     ]
    }
   ],
   "source": [
    "# list of objects\n",
    "class Person:\n",
    "    \n",
    "    def __init__(self,name,gender):\n",
    "        self.name = name\n",
    "        self.gender = gender\n",
    "        \n",
    "        \n",
    "p1 = Person('Nitish','Male')\n",
    "p2 = Person('Ankit','Male')\n",
    "p3 = Person('Ankita','Female')\n",
    "\n",
    "L = [p1,p2,p3]\n",
    "\n",
    "for i in L:\n",
    "    print(i.name,i.gender)"
   ]
  },
  {
   "cell_type": "code",
   "execution_count": 61,
   "id": "448a28bf",
   "metadata": {},
   "outputs": [
    {
     "name": "stdout",
     "output_type": "stream",
     "text": [
      "[<__main__.Person object at 0x0000023E68A66EB0>, <__main__.Person object at 0x0000023E68A66CA0>, <__main__.Person object at 0x0000023E68A669A0>]\n"
     ]
    }
   ],
   "source": [
    "print(L)"
   ]
  },
  {
   "cell_type": "code",
   "execution_count": 62,
   "id": "92223bcc",
   "metadata": {},
   "outputs": [
    {
     "name": "stdout",
     "output_type": "stream",
     "text": [
      "male\n",
      "male\n",
      "female\n"
     ]
    }
   ],
   "source": [
    "# dict of objects\n",
    "# list of objects\n",
    "class Person:\n",
    "    def __init__(self,name,gender):\n",
    "        self.name = name\n",
    "        self.gender = gender\n",
    "\n",
    "p1 = Person('nitish','male')\n",
    "p2 = Person('ankit','male')\n",
    "p3 = Person('ankita','female')\n",
    "\n",
    "d = {'p1':p1,'p2':p2,'p3':p3}\n",
    "\n",
    "for i in d:\n",
    "    print(d[i].gender)"
   ]
  },
  {
   "cell_type": "markdown",
   "id": "8c53799f",
   "metadata": {},
   "source": [
    "## Static Variables and Static Method"
   ]
  },
  {
   "cell_type": "markdown",
   "id": "4233985e",
   "metadata": {},
   "source": [
    "- A static method is bound to the class and not the object of the class. Therefore, we can call it using the class name.\n",
    "\n",
    "- A static method doesn’t have access to the class and instance variables because it does not receive an implicit first argument like self and cls. Therefore it cannot modify the state of the object or class.\n",
    "\n",
    "- The class method can be called using ClassName.method_name() as well as by using an object of the class."
   ]
  },
  {
   "cell_type": "code",
   "execution_count": 17,
   "id": "72f772af",
   "metadata": {},
   "outputs": [],
   "source": [
    "class Atm:\n",
    "    __counter = 1\n",
    "    \n",
    "    # constructor(special function)->superpower -> \n",
    "    def __init__(self):\n",
    "        print(id(self))\n",
    "        self.pin = ''\n",
    "        self.__balance = 0\n",
    "        self.cid = Atm.__counter\n",
    "        Atm.counter = Atm.__counter + 1\n",
    "        #self.menu()\n",
    "     \n",
    "    # utility functions\n",
    "    @staticmethod\n",
    "    def get_counter():\n",
    "        return Atm.__counter\n",
    "\n",
    "    def get_balance(self):\n",
    "        return self.__balance\n",
    "\n",
    "    def set_balance(self,new_value):\n",
    "        if type(new_value) == int:\n",
    "            self.__balance = new_value\n",
    "        else:\n",
    "            print('beta bahot maarenge')\n",
    "            \n",
    "    def __menu(self):\n",
    "        user_input = input(\"\"\"\n",
    "        Hi how can I help you?\n",
    "        1. Press 1 to create pin\n",
    "        2. Press 2 to change pin\n",
    "        3. Press 3 to check balance\n",
    "        4. Press 4 to withdraw\n",
    "        5. Anything else to exit\n",
    "        \"\"\")\n",
    "\n",
    "        if user_input == '1':\n",
    "            self.create_pin()\n",
    "        elif user_input == '2':\n",
    "            self.change_pin()\n",
    "        elif user_input == '3':\n",
    "            self.check_balance()\n",
    "        elif user_input == '4':\n",
    "            self.withdraw()\n",
    "        else:\n",
    "            exit()\n",
    "\n",
    "    def create_pin(self):\n",
    "        user_pin = input('enter your pin')\n",
    "        self.pin = user_pin\n",
    "\n",
    "        user_balance = int(input('enter balance'))\n",
    "        self.__balance = user_balance\n",
    "\n",
    "        print('pin created successfully')\n",
    "\n",
    "    def change_pin(self):\n",
    "        old_pin = input('enter old pin')\n",
    "\n",
    "        if old_pin == self.pin:\n",
    "            # let him change the pin\n",
    "            new_pin = input('enter new pin')\n",
    "            self.pin = new_pin\n",
    "            print('pin change successful')\n",
    "        else:\n",
    "            print('nai karne de sakta re baba')\n",
    "\n",
    "    def check_balance(self):\n",
    "        user_pin = input('enter your pin')\n",
    "        if user_pin == self.pin:\n",
    "            print('your balance is ',self.__balance)\n",
    "        else:\n",
    "            print('chal nikal yahan se')\n",
    "\n",
    "    def withdraw(self):\n",
    "        user_pin = input('enter the pin')\n",
    "        if user_pin == self.pin:\n",
    "            # allow to withdraw\n",
    "            amount = int(input('enter the amount'))\n",
    "            if amount <= self.__balance:\n",
    "                self.__balance = self.__balance - amount\n",
    "                print('withdrawl successful.balance is',self.__balance)\n",
    "            else:\n",
    "                print('abe garib')\n",
    "        else:\n",
    "            print('sale chor')"
   ]
  },
  {
   "cell_type": "code",
   "execution_count": 18,
   "id": "59df8af9",
   "metadata": {},
   "outputs": [
    {
     "name": "stdout",
     "output_type": "stream",
     "text": [
      "1946620811728\n",
      "1946620809616\n",
      "1946620809376\n"
     ]
    }
   ],
   "source": [
    "c1 = Atm()\n",
    "c2 = Atm()\n",
    "c3 = Atm()"
   ]
  },
  {
   "cell_type": "code",
   "execution_count": 19,
   "id": "e9c37af5",
   "metadata": {},
   "outputs": [
    {
     "data": {
      "text/plain": [
       "1"
      ]
     },
     "execution_count": 19,
     "metadata": {},
     "output_type": "execute_result"
    }
   ],
   "source": [
    "c1.cid"
   ]
  },
  {
   "cell_type": "code",
   "execution_count": 20,
   "id": "1f1641b0",
   "metadata": {},
   "outputs": [
    {
     "data": {
      "text/plain": [
       "1"
      ]
     },
     "execution_count": 20,
     "metadata": {},
     "output_type": "execute_result"
    }
   ],
   "source": [
    "c2.cid"
   ]
  },
  {
   "cell_type": "code",
   "execution_count": 21,
   "id": "6cb41740",
   "metadata": {},
   "outputs": [
    {
     "data": {
      "text/plain": [
       "1"
      ]
     },
     "execution_count": 21,
     "metadata": {},
     "output_type": "execute_result"
    }
   ],
   "source": [
    "c3.cid"
   ]
  },
  {
   "cell_type": "code",
   "execution_count": 22,
   "id": "ff3a07e0",
   "metadata": {},
   "outputs": [
    {
     "data": {
      "text/plain": [
       "2"
      ]
     },
     "execution_count": 22,
     "metadata": {},
     "output_type": "execute_result"
    }
   ],
   "source": [
    "Atm.counter"
   ]
  },
  {
   "cell_type": "markdown",
   "id": "64fd86e3",
   "metadata": {},
   "source": [
    "## Example : 1"
   ]
  },
  {
   "cell_type": "code",
   "execution_count": 23,
   "id": "25d2c4ed",
   "metadata": {},
   "outputs": [
    {
     "name": "stdout",
     "output_type": "stream",
     "text": [
      "Inside static method 10\n",
      "Inside static method 10\n"
     ]
    }
   ],
   "source": [
    "class Employee:\n",
    "    @staticmethod\n",
    "    def sample(x):\n",
    "        print('Inside static method', x)\n",
    "\n",
    "# call static method\n",
    "Employee.sample(10)\n",
    "\n",
    "# can be called using object\n",
    "emp = Employee()\n",
    "emp.sample(10)"
   ]
  },
  {
   "cell_type": "markdown",
   "id": "59c8fda2",
   "metadata": {},
   "source": [
    "## Example : 2"
   ]
  },
  {
   "cell_type": "code",
   "execution_count": 24,
   "id": "2cb4946c",
   "metadata": {},
   "outputs": [
    {
     "name": "stdout",
     "output_type": "stream",
     "text": [
      "Completed task_1\n",
      "Completed task_2\n",
      "Completed task_3\n"
     ]
    }
   ],
   "source": [
    "class Employee(object):\n",
    "\n",
    "    def __init__(self, name, salary, project_name):\n",
    "        self.name = name\n",
    "        self.salary = salary\n",
    "        self.project_name = project_name\n",
    "\n",
    "    @staticmethod\n",
    "    def gather_requirement(project_name):\n",
    "        if project_name == 'ABC Project':\n",
    "            requirement = ['task_1', 'task_2', 'task_3']\n",
    "        else:\n",
    "            requirement = ['task_1']\n",
    "        return requirement\n",
    "\n",
    "    # instance method\n",
    "    def work(self):\n",
    "        # call static method from instance method\n",
    "        requirement = self.gather_requirement(self.project_name)\n",
    "        for task in requirement:\n",
    "            print('Completed', task)\n",
    "\n",
    "emp = Employee('Kelly', 12000, 'ABC Project')\n",
    "emp.work()"
   ]
  },
  {
   "cell_type": "markdown",
   "id": "237cf7e0",
   "metadata": {},
   "source": [
    "## Class Variable and Class Methods"
   ]
  },
  {
   "cell_type": "markdown",
   "id": "43d14b93",
   "metadata": {},
   "source": [
    "Class methods are methods that are called on the class itself, not on a specific object instance. Therefore, it belongs to a class level, and all class instances share a class method.\n",
    "\n",
    "- A class method is bound to the class and not the object of the class. It can access only class variables.\n",
    "- It can modify the class state by changing the value of a class variable that would apply across all the class objects."
   ]
  },
  {
   "cell_type": "markdown",
   "id": "1b2949a6",
   "metadata": {},
   "source": [
    "In method implementation, if we use only class variables, we should declare such methods as class methods. The class method has a cls as the first parameter, which refers to the class.\n",
    "\n",
    "Class methods are used when we are dealing with factory methods. Factory methods are those methods that return a class object for different use cases. Thus, factory methods create concrete implementations of a common interface.\n",
    "\n",
    "The class method can be called using ClassName.method_name() as well as by using an object of the class.\n",
    "\n"
   ]
  },
  {
   "cell_type": "markdown",
   "id": "5431e404",
   "metadata": {},
   "source": [
    "To make a method as class method, add @classmethod decorator before the method definition, and add cls as the first parameter to the method.\n",
    "\n",
    "The @classmethod decorator is a built-in function decorator. In Python, we use the @classmethod decorator to declare a method as a class method. The @classmethod decorator is an expression that gets evaluated after our function is defined.\n",
    "\n",
    "Let’s see how to create a factory method using the class method. In this example, we will create a Student class object using the class method."
   ]
  },
  {
   "cell_type": "markdown",
   "id": "08f5874d",
   "metadata": {},
   "source": [
    "## Example : 1"
   ]
  },
  {
   "cell_type": "code",
   "execution_count": 25,
   "id": "fd98cca8",
   "metadata": {},
   "outputs": [
    {
     "name": "stdout",
     "output_type": "stream",
     "text": [
      "Jessa's age is: 20\n",
      "Joy's age is: 28\n"
     ]
    }
   ],
   "source": [
    "from datetime import date\n",
    "\n",
    "class Student:\n",
    "    def __init__(self, name, age):\n",
    "        self.name = name\n",
    "        self.age = age\n",
    "\n",
    "    @classmethod\n",
    "    def calculate_age(cls, name, birth_year):\n",
    "        # calculate age an set it as a age\n",
    "        # return new object\n",
    "        return cls(name, date.today().year - birth_year)\n",
    "\n",
    "    def show(self):\n",
    "        print(self.name + \"'s age is: \" + str(self.age))\n",
    "\n",
    "jessa = Student('Jessa', 20)\n",
    "jessa.show()\n",
    "\n",
    "# create new object using the factory method\n",
    "joy = Student.calculate_age(\"Joy\", 1995)\n",
    "joy.show()\n"
   ]
  },
  {
   "cell_type": "markdown",
   "id": "981332fa",
   "metadata": {},
   "source": [
    "- In the above example, we created two objects, one using the constructor and the second using the calculate_age() method.\n",
    "- The constructor takes two arguments name and age. On the other hand, class method takes cls, name, and birth_year and returns a class instance which nothing but a new object.\n",
    "- The @classmethod decorator is used for converting calculate_age() method to a class method.\n",
    "- The calculate_age() method takes Student class (cls) as a first parameter and returns constructor by calling Student(name, date.today().year - birthYear), which is equivalent to Student(name, age)."
   ]
  },
  {
   "cell_type": "code",
   "execution_count": 26,
   "id": "492b87bf",
   "metadata": {},
   "outputs": [
    {
     "name": "stdout",
     "output_type": "stream",
     "text": [
      "School Name is : ABC School\n"
     ]
    }
   ],
   "source": [
    "class School:\n",
    "    # class variable\n",
    "    name = 'ABC School'\n",
    "\n",
    "    def school_name(cls):\n",
    "        print('School Name is :', cls.name)\n",
    "\n",
    "# create class method\n",
    "School.school_name = classmethod(School.school_name)\n",
    "\n",
    "# call class method\n",
    "School.school_name()\n"
   ]
  },
  {
   "cell_type": "code",
   "execution_count": 28,
   "id": "eebd6f8a",
   "metadata": {},
   "outputs": [
    {
     "name": "stdout",
     "output_type": "stream",
     "text": [
      "Jessa 20 School: ABC School\n",
      "Jessa 20 School: XYZ School\n"
     ]
    }
   ],
   "source": [
    "class Student:\n",
    "    school_name = 'ABC School'\n",
    "\n",
    "    def __init__(self, name, age):\n",
    "        self.name = name\n",
    "        self.age = age\n",
    "\n",
    "    @classmethod\n",
    "    def change_school(cls, school_name):\n",
    "        # class_name.class_variable\n",
    "        cls.school_name = school_name\n",
    "\n",
    "    # instance method\n",
    "    def show(self):\n",
    "        print(self.name, self.age, 'School:', Student.school_name)\n",
    "\n",
    "jessa = Student('Jessa', 20)\n",
    "jessa.show()\n",
    "\n",
    "# change school_name\n",
    "Student.change_school('XYZ School')\n",
    "jessa.show()"
   ]
  },
  {
   "cell_type": "code",
   "execution_count": null,
   "id": "e55636b4",
   "metadata": {},
   "outputs": [],
   "source": []
  },
  {
   "cell_type": "code",
   "execution_count": null,
   "id": "b4e120db",
   "metadata": {},
   "outputs": [],
   "source": []
  },
  {
   "cell_type": "code",
   "execution_count": null,
   "id": "f1a9f352",
   "metadata": {},
   "outputs": [],
   "source": []
  },
  {
   "cell_type": "code",
   "execution_count": null,
   "id": "3d0cb7dd",
   "metadata": {},
   "outputs": [],
   "source": []
  },
  {
   "cell_type": "code",
   "execution_count": null,
   "id": "42f62795",
   "metadata": {},
   "outputs": [],
   "source": []
  },
  {
   "cell_type": "code",
   "execution_count": null,
   "id": "63fd4980",
   "metadata": {},
   "outputs": [],
   "source": []
  },
  {
   "cell_type": "code",
   "execution_count": null,
   "id": "394c365d",
   "metadata": {},
   "outputs": [],
   "source": []
  },
  {
   "cell_type": "code",
   "execution_count": null,
   "id": "36bb4eb0",
   "metadata": {},
   "outputs": [],
   "source": []
  },
  {
   "cell_type": "code",
   "execution_count": null,
   "id": "4a4d85ce",
   "metadata": {},
   "outputs": [],
   "source": []
  },
  {
   "cell_type": "code",
   "execution_count": null,
   "id": "ad13635f",
   "metadata": {},
   "outputs": [],
   "source": []
  },
  {
   "cell_type": "code",
   "execution_count": null,
   "id": "9d0b43d1",
   "metadata": {},
   "outputs": [],
   "source": []
  },
  {
   "cell_type": "markdown",
   "id": "f4c4b41a",
   "metadata": {},
   "source": []
  },
  {
   "cell_type": "code",
   "execution_count": null,
   "id": "f71c2412",
   "metadata": {},
   "outputs": [],
   "source": []
  },
  {
   "cell_type": "code",
   "execution_count": null,
   "id": "a59f6f0f",
   "metadata": {},
   "outputs": [],
   "source": []
  },
  {
   "cell_type": "code",
   "execution_count": null,
   "id": "9b48b3fd",
   "metadata": {},
   "outputs": [],
   "source": []
  }
 ],
 "metadata": {
  "kernelspec": {
   "display_name": "Python 3 (ipykernel)",
   "language": "python",
   "name": "python3"
  },
  "language_info": {
   "codemirror_mode": {
    "name": "ipython",
    "version": 3
   },
   "file_extension": ".py",
   "mimetype": "text/x-python",
   "name": "python",
   "nbconvert_exporter": "python",
   "pygments_lexer": "ipython3",
   "version": "3.9.13"
  }
 },
 "nbformat": 4,
 "nbformat_minor": 5
}
